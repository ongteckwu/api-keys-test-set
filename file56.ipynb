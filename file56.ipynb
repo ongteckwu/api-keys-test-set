{
 "cells": [
  {
   "cell_type": "markdown",
   "metadata": {},
   "source": [
    "# Model Results Visualization\n",
    "This notebook is intended to pull model artifacts from the Neptune experiment logger and run it on a few samples from the dataset to see visualize how the different model's are segmenting the data. "
   ]
  },
  {
   "cell_type": "code",
   "execution_count": 1,
   "metadata": {},
   "outputs": [],
   "source": [
    "from neptune import Session\n",
    "import pickle\n",
    "from rasterio.plot import show\n",
    "import pytorch_lightning as pl\n",
    "import torch\n",
    "import torchvision\n",
    "import zipfile\n",
    "from matplotlib import pyplot\n",
    "import numpy as np\n",
    "from IPython.core.interactiveshell import InteractiveShell\n",
    "InteractiveShell.ast_node_interactivity = \"all\"\n",
    "import segmentation_models_pytorch as smp"
   ]
  },
  {
   "cell_type": "code",
   "execution_count": 2,
   "metadata": {},
   "outputs": [],
   "source": [
    "image_types = ['full_channel', 'rgb', 'ir', 'hsv', 'hsv_with_ir', 'veg_index']"
   ]
  },
  {
   "cell_type": "code",
   "execution_count": 3,
   "metadata": {},
   "outputs": [],
   "source": [
    "f = open(\"image_samples.pkl\", \"rb\")\n",
    "image_samples = pickle.load(f)"
   ]
  },
  {
   "cell_type": "code",
   "execution_count": 4,
   "metadata": {},
   "outputs": [],
   "source": [
    "# create session and import my project\n",
    "sesh = Session.with_default_backend(api_token=\"eyJhcGlfYWRkcmVzcyI6Imh0dHBzOi8vdWkubmVwdHVuZS5haSIsImFwaV91cmwiOiJodHRwczovL3VpLm5\"\n",
    "                                \"lcHR1bmUuYWkiLCJhcGlfa2V5IjoiOGE5NDI0YTktNmE2ZC00ZWZjLTlkMjAtNjNmMTIwM2Q2ZTQzIn0=\")\n",
    "project = sesh.get_project(\"maxzvyagin/GIS\")"
   ]
  },
  {
   "cell_type": "code",
   "execution_count": 5,
   "metadata": {},
   "outputs": [],
   "source": [
    "experiments = project.get_experiments()"
   ]
  },
  {
   "cell_type": "code",
   "execution_count": null,
   "metadata": {},
   "outputs": [],
   "source": [
    "experiments"
   ]
  },
  {
   "cell_type": "code",
   "execution_count": null,
   "metadata": {},
   "outputs": [],
   "source": [
    "e = experiments[0]\n",
    "e.get_system_properties()\n",
    "e.get_logs()['test_loss']['y']\n",
    "e.state"
   ]
  },
  {
   "cell_type": "code",
   "execution_count": 14,
   "metadata": {},
   "outputs": [
    {
     "name": "stdout",
     "output_type": "stream",
     "text": [
      "precision\n"
     ]
    },
    {
     "data": {
      "text/plain": [
       "Text(0.5, 0.98, 'Experiment: precision, Test Loss: 0.3002199888938949')"
      ]
     },
     "execution_count": 14,
     "metadata": {},
     "output_type": "execute_result"
    },
    {
     "data": {
      "text/plain": [
       "array([[[ 6.1905247e-01,  1.7287609e-01, -1.1736951e-01, ...,\n",
       "         -1.4503416e+00, -8.1215918e-01, -8.1049502e-01],\n",
       "        [-1.8524872e-01, -7.2564058e-02, -6.5340716e-01, ...,\n",
       "         -2.2250707e+00, -1.7331903e+00, -1.2704153e+00],\n",
       "        [-8.9226741e-01, -3.4516716e-01, -4.5473689e-01, ...,\n",
       "         -2.4634967e+00, -1.6852738e+00, -1.2539607e+00],\n",
       "        ...,\n",
       "        [-4.2866626e-01, -2.4395081e-01, -5.9602750e-03, ...,\n",
       "          1.3958278e+00,  1.3653005e+00,  6.9859427e-01],\n",
       "        [-9.3539089e-02,  1.8826924e-02,  1.9645345e-01, ...,\n",
       "          9.4563538e-01,  1.1021788e+00,  3.4769014e-01],\n",
       "        [-8.3044475e-01, -2.9455248e-01,  7.9980813e-02, ...,\n",
       "          4.0667877e-01,  4.0003672e-01,  8.0712931e-04]]], dtype=float32)"
      ]
     },
     "execution_count": 14,
     "metadata": {},
     "output_type": "execute_result"
    },
    {
     "name": "stdout",
     "output_type": "stream",
     "text": [
      "(1, 1, 256, 256)\n"
     ]
    },
    {
     "data": {
      "text/plain": [
       "<AxesSubplot:title={'center':'Model Prediction'}>"
      ]
     },
     "execution_count": 14,
     "metadata": {},
     "output_type": "execute_result"
    },
    {
     "data": {
      "text/plain": [
       "<AxesSubplot:title={'center':'Ground Truth'}>"
      ]
     },
     "execution_count": 14,
     "metadata": {},
     "output_type": "execute_result"
    },
    {
     "data": {
      "image/png": "[encoded data removed]",
      "text/plain": [
       "<Figure size 432x288 with 2 Axes>"
      ]
     },
     "metadata": {
      "needs_background": "light"
     },
     "output_type": "display_data"
    },
    {
     "data": {
      "text/plain": [
       "Text(0.5, 0.98, 'Experiment: precision, Test Loss: 0.3002199888938949')"
      ]
     },
     "execution_count": 14,
     "metadata": {},
     "output_type": "execute_result"
    },
    {
     "data": {
      "text/plain": [
       "array([[[-0.29924357, -0.8339882 , -1.1103743 , ..., -0.7860453 ,\n",
       "         -0.33727056, -0.5635285 ],\n",
       "        [-1.179449  , -1.8950716 , -2.4855897 , ..., -0.97253144,\n",
       "         -0.69997257, -1.0778868 ],\n",
       "        [-1.6517195 , -2.392777  , -2.7185967 , ..., -0.32723704,\n",
       "         -0.4198234 , -0.71066177],\n",
       "        ...,\n",
       "        [-1.77948   , -2.3802226 , -2.3958793 , ...,  0.80377287,\n",
       "          1.0406016 ,  0.5358974 ],\n",
       "        [-0.96693504, -1.6313093 , -1.8304    , ...,  0.67986137,\n",
       "          0.9588615 ,  0.17538014],\n",
       "        [-1.304261  , -1.4463623 , -1.4250826 , ...,  0.36384997,\n",
       "          0.36624688, -0.16616239]]], dtype=float32)"
      ]
     },
     "execution_count": 14,
     "metadata": {},
     "output_type": "execute_result"
    },
    {
     "name": "stdout",
     "output_type": "stream",
     "text": [
      "(1, 1, 256, 256)\n"
     ]
    },
    {
     "data": {
      "text/plain": [
       "<AxesSubplot:title={'center':'Model Prediction'}>"
      ]
     },
     "execution_count": 14,
     "metadata": {},
     "output_type": "execute_result"
    },
    {
     "data": {
      "text/plain": [
       "<AxesSubplot:title={'center':'Ground Truth'}>"
      ]
     },
     "execution_count": 14,
     "metadata": {},
     "output_type": "execute_result"
    },
    {
     "data": {
      "image/png": "[encoded data removed]",
      "text/plain": [
       "<Figure size 432x288 with 2 Axes>"
      ]
     },
     "metadata": {
      "needs_background": "light"
     },
     "output_type": "display_data"
    },
    {
     "data": {
      "text/plain": [
       "Text(0.5, 0.98, 'Experiment: precision, Test Loss: 0.3002199888938949')"
      ]
     },
     "execution_count": 14,
     "metadata": {},
     "output_type": "execute_result"
    },
    {
     "data": {
      "text/plain": [
       "array([[[-0.40652555, -0.89866304, -1.2365123 , ..., -1.0895311 ,\n",
       "         -0.53544354, -0.6459659 ],\n",
       "        [-1.3085873 , -1.8967845 , -2.4694512 , ..., -1.4211076 ,\n",
       "         -1.2199197 , -1.224055  ],\n",
       "        [-1.6626693 , -2.29389   , -2.6010225 , ..., -1.3511701 ,\n",
       "         -1.1525673 , -0.99629927],\n",
       "        ...,\n",
       "        [-0.9295326 , -1.0750002 , -1.3427709 , ...,  0.833679  ,\n",
       "          1.0623217 ,  0.49131683],\n",
       "        [-0.31661835, -0.51223546, -0.6529732 , ...,  0.5583112 ,\n",
       "          0.84958196,  0.16145614],\n",
       "        [-1.0640613 , -0.706035  , -0.35171455, ...,  0.1821561 ,\n",
       "          0.18475387, -0.05657838]]], dtype=float32)"
      ]
     },
     "execution_count": 14,
     "metadata": {},
     "output_type": "execute_result"
    },
    {
     "name": "stdout",
     "output_type": "stream",
     "text": [
      "(1, 1, 256, 256)\n"
     ]
    },
    {
     "data": {
      "text/plain": [
       "<AxesSubplot:title={'center':'Model Prediction'}>"
      ]
     },
     "execution_count": 14,
     "metadata": {},
     "output_type": "execute_result"
    },
    {
     "data": {
      "text/plain": [
       "<AxesSubplot:title={'center':'Ground Truth'}>"
      ]
     },
     "execution_count": 14,
     "metadata": {},
     "output_type": "execute_result"
    },
    {
     "data": {
      "image/png": "[encoded data removed]",
      "text/plain": [
       "<Figure size 432x288 with 2 Axes>"
      ]
     },
     "metadata": {
      "needs_background": "light"
     },
     "output_type": "display_data"
    }
   ],
   "source": [
    "for e in experiments:\n",
    "    id_num = int(e.get_system_properties()['id'].split('GIS-')[1])\n",
    "    encoder = e.get_system_properties()['tags'][-1]\n",
    "    if \"encoder\" in encoder:\n",
    "        encoder = encoder.split(\"encoder\")[1].lower()\n",
    "    else:\n",
    "        encoder = encoder.lower()\n",
    "    if id_num == 449 and e.state == 'succeeded':\n",
    "        # load in the model\n",
    "        e.download_artifacts()\n",
    "        with zipfile.ZipFile('output.zip') as zip_ref:\n",
    "            zip_ref.extractall()\n",
    "        f = open('output/latest_model.pkl', 'rb')\n",
    "        device = torch.device('cpu')\n",
    "        old_params = torch.load(f, map_location=device)\n",
    "        params = dict()\n",
    "        i_type = e.get_parameters()['image_type']\n",
    "        if i_type == \"full_channel\":\n",
    "            input_num = 4\n",
    "        elif i_type == \"rgb\":\n",
    "            input_num = 3\n",
    "        elif i_type == \"ir\":\n",
    "            input_num = 1\n",
    "        elif i_type == \"hsv\":\n",
    "            input_num = 3\n",
    "        elif i_type == \"hsv_with_ir\":\n",
    "            input_num = 4\n",
    "        elif i_type == \"veg_index\":\n",
    "            input_num = 1\n",
    "        else:\n",
    "            input_num = 4\n",
    "        model = smp.Unet(classes=1, in_channels=4)\n",
    "        # fix the weird state dict key error\n",
    "        for k in old_params.keys():\n",
    "            new_key = k.split(\"model.\")[1]\n",
    "            params[new_key] = old_params[k]\n",
    "        # saving to variable to suppress huge printout\n",
    "        print(encoder)\n",
    "        y = model.load_state_dict(params)\n",
    "        f.close()\n",
    "        y = model.eval()\n",
    "        # check the image type, and get image samples for corresponding image type\n",
    "        # run the model on each of the samples and show results\n",
    "        # print experiment id, name, image type, and training/test loss\n",
    "        # print(e.get_properties(), e.get_numeric_channels_values())\n",
    "        # show mask, and then show the results from each \n",
    "        for test in image_samples[i_type]:\n",
    "            fig, (m_axis, i_axis) = pyplot.subplots(1, 2)\n",
    "            fig.suptitle(\"Experiment: \"+encoder+\", Test Loss: \"+e.get_logs()['test_loss']['y'], fontsize=16)\n",
    "            if i_type == \"veg_index\":\n",
    "                channel_input = test['image'].unsqueeze(0)\n",
    "                channel_input = channel_input.unsqueeze(1)\n",
    "                res = model(channel_input)\n",
    "            else:\n",
    "                res = model(test['image'].unsqueeze(0)).detach().numpy()\n",
    "            #res = torch.max(output[:, 0, :, :], output[:, 1, :, :])\n",
    "            res.squeeze(0)\n",
    "            res[res >= 0] = 1\n",
    "            res[res < 0] = 0\n",
    "            #res = np.rint(res.detach().numpy())\n",
    "#             res = torch.max(model(test['image'].unsqueeze(0)))\n",
    "            #res = np.reshape(res, (2, 256, 256))\n",
    "            print(res.shape) \n",
    "            #print(res[:10])\n",
    "            show(res, ax=i_axis, title=\"Model Prediction\")\n",
    "            show(test['mask'], ax=m_axis, title=\"Ground Truth\")\n",
    "            pyplot.show()\n",
    "    "
   ]
  },
  {
   "cell_type": "code",
   "execution_count": null,
   "metadata": {},
   "outputs": [],
   "source": [
    "for e in experiments:\n",
    "    # load in the model\n",
    "    e.download_artifacts()\n",
    "    with zipfile.ZipFile('output.zip') as zip_ref:\n",
    "        zip_ref.extractall()\n",
    "    f = open('output/latest_model.pkl', 'rb')\n",
    "    device = torch.device('cpu')\n",
    "    old_params = torch.load(f, map_location=device)\n",
    "    params = dict()\n",
    "    i_type = e.get_parameters()['image_type']\n",
    "    if i_type == \"full_channel\":\n",
    "        input_num = 4\n",
    "    elif i_type == \"rgb\":\n",
    "        input_num = 3\n",
    "    elif i_type == \"ir\":\n",
    "        input_num = 1\n",
    "    elif i_type == \"hsv\":\n",
    "        input_num = 3\n",
    "    elif i_type == \"hsv_with_ir\":\n",
    "        input_num = 4\n",
    "    elif i_type == \"veg_index\":\n",
    "        input_num = 1\n",
    "    else:\n",
    "        i_type = 4\n",
    "    model =  torch.hub.load('mateuszbuda/brain-segmentation-pytorch', 'unet', in_channels=input_num,\n",
    "                                    out_channels=1,\n",
    "                                    init_features=32, pretrained=False)\n",
    "    # fix the weird state dict key error\n",
    "    for k in old_params.keys():\n",
    "        new_key = k.split(\"model.\")[1]\n",
    "        params[new_key] = old_params[k]\n",
    "    model.load_state_dict(params)\n",
    "    f.close()\n",
    "    # check the image type, and get image samples for corresponding image type\n",
    "    # run the model on each of the samples and show results\n",
    "    # print experiment id, name, image type, and training/test loss\n",
    "    # print(e.get_properties(), e.get_numeric_channels_values())\n",
    "    # show mask, and then show the results from each \n",
    "    for test in image_samples[i_type]:\n",
    "        fig, (m_axis, i_axis) = pyplot.subplots(1, 2)\n",
    "        fig.suptitle(\"Experiment: \"+e.get_system_properties()['name']+\", Test Loss: \"+e.get_logs()['test_loss']['y'], fontsize=16)\n",
    "        if i_type == \"veg_index\":\n",
    "            channel_input = test['image'].unsqueeze(0)\n",
    "            channel_input = channel_input.unsqueeze(1)\n",
    "            res = model(channel_input)\n",
    "        else:\n",
    "            res = model(test['image'].unsqueeze(0))\n",
    "        res = np.rint(res.detach().numpy())\n",
    "        show(res, ax=i_axis, title=\"Model Prediction\")\n",
    "        show(test['mask'], ax=m_axis, title=\"Ground Truth\")\n",
    "        pyplot.show()\n",
    "    "
   ]
  },
  {
   "cell_type": "code",
   "execution_count": null,
   "metadata": {},
   "outputs": [],
   "source": []
  }
 ],
 "metadata": {
  "kernelspec": {
   "display_name": "Python 3",
   "language": "python",
   "name": "python3"
  },
  "language_info": {
   "codemirror_mode": {
    "name": "ipython",
    "version": 3
   },
   "file_extension": ".py",
   "mimetype": "text/x-python",
   "name": "python",
   "nbconvert_exporter": "python",
   "pygments_lexer": "ipython3",
   "version": "3.8.5"
  }
 },
 "nbformat": 4,
 "nbformat_minor": 4
}
